{
 "cells": [
  {
   "cell_type": "markdown",
   "metadata": {},
   "source": [
    "# Project: Analyzing Macbeth"
   ]
  },
  {
   "cell_type": "markdown",
   "metadata": {},
   "source": [
    "## Introduction\n",
    "For our first day and first data science project, we're going to do some rudimentry analysis of Shakespeare's classic play: Macbeth! You will get practice working with lists, condtionals and dictionaries, visualizing data, and thinking analytically about data."
   ]
  },
  {
   "cell_type": "markdown",
   "metadata": {},
   "source": [
    "## Objectives\n",
    "You will be able to:\n",
    "* Show mastery of the content covered in this section"
   ]
  },
  {
   "cell_type": "markdown",
   "metadata": {},
   "source": [
    "### Getting the Data\n",
    "Here we start by importing a python package and using it to pull the transcript of Macbeth from the project Gutenberg website. We also preview a few details about what is now stored in the variable macbeth; it's a string with 119,846 characters, the first 500 of which are printed below. "
   ]
  },
  {
   "cell_type": "code",
   "execution_count": 12,
   "metadata": {},
   "outputs": [
    {
     "name": "stdout",
     "output_type": "stream",
     "text": [
      "<class 'str'>\n",
      "119846\n",
      "﻿***The Project Gutenberg's Etext of Shakespeare's First Folio***\r\n",
      "********************The Tragedie of Macbeth*********************\r\n",
      "\r\n",
      "This is our 3rd edition of most of these plays.  See the index.\r\n",
      "\r\n",
      "\r\n",
      "Copyright laws are changing all over the world, be sure to check\r\n",
      "the copyright laws for your country before posting these files!!\r\n",
      "\r\n",
      "Please take a look at the important information in this header.\r\n",
      "We encourage you to keep this file on your own disk, keeping an\r\n",
      "electronic path open for the nex\n"
     ]
    }
   ],
   "source": [
    "import requests\n",
    "import re\n",
    "import string\n",
    "\n",
    "macbeth = requests.get('http://www.gutenberg.org/cache/epub/2264/pg2264.txt').text\n",
    "\n",
    "print(type(macbeth))\n",
    "print(len(macbeth))\n",
    "print(macbeth[:500])"
   ]
  },
  {
   "cell_type": "markdown",
   "metadata": {},
   "source": [
    "### Your Task\n",
    "\n",
    "Your task is to create a bar graph of the 25 most common words in the Shakespeare's Macbeth.  \n",
    "\n",
    "\n",
    "A common python programming pattern to counting objects, produce histograms, or update statistics is to make calls to a dictionary as you iterate through a list. For example, given a list of words, you can create a dictionary to store counts and then iterate through the list of words, checking how many times each word has appeared using your dictionary, and updating the dictionary count now that you've seen that word again. The `dictionary.get()` method is very useful in doing this. Read the docstring for the dictionary.get() method and use it along with the pseudocode above to create a bar graph of the 25 most common words from the transcript of Macbeth which has been loaded into a variable 'Macbeth'. Be sure to include a title and appropriate labels for your graph."
   ]
  },
  {
   "cell_type": "code",
   "execution_count": 23,
   "metadata": {},
   "outputs": [
    {
     "data": {
      "text/plain": [
       "'inal plain ascii form or in ebcdic or other equivalent proprietary form 2 honor the etext refund and replacement provisions of this small print statement 3 pay a trademark license fee to the project of 20 of the net profits you derive calculated using the method you already use to calculate your applicable taxes if you don t derive profits no royalty is due royalties are payable to project gutenberg association carnegie mellon university within the 60 days following each date you prepare or were legally required to prepare your annual or equivalent periodic tax return what if you want to send money even if you don t have to the project gratefully accepts contributions in money time scanning machines ocr software public domain etexts royalty free copyright licenses and every other sort of contribution you can think of money should be paid to project gutenberg association carnegie mellon university end the small print for public domain etexts ver 04 29 93 end project gutenberg s etext of shakespeare s the tragedie of macbeth executive director s notes in addition to the notes below and so you will not think all the spelling errors introduced by the printers of the time have been corrected here are the first few lines of hamlet as they are presented herein barnardo who s there fran nay answer me stand vnfold your selfe bar long liue the king as i understand it the printers often ran out of certain words or letters they had often packed into a cliche this is the original meaning of the term cliche and thus being unwilling to unpack the cliches and thus you will see some substitutions that look very odd such as the exchanges of u for v v for u above and you may wonder why they did it this way presuming shakespeare did not actually write the play in this manner the answer is that they may have packed liue into a cliche at a time when they were out of v s possibly having used vv in place of some w s etc this was a common practice of the day as print was still quite expensive and they didn t want to spend more on a wider selection of characters than they had to you will find a lot of these kinds of errors in this text as i have mentioned in other times and places many scholars have an extreme attachment to these errors and many have accorded them a very high place in the canon of shakespeare my father read an assortment of these made available to him by cambridge university in england for several months in a glass room constructed for the purpose to the best of my knowledge he read all those available in great detail and determined from the various changes that shakespeare most likely did not write in nearly as many of a variety of errors we credit him for even though he was in famous for signing his name with several different spellings so please take this into account when reading the comments below made by our volunteer who prepared this file you may see errors that are not errors so with this caveat we have not changed the canon errors here is the project gutenberg etext of shakespeare s the tragedie of macbeth michael s hart project gutenberg executive director scanner s notes what this is and isn t this was taken from a copy of shakespeare s first folio and it is as close as i can come in ascii to the printed text the elongated s s have been changed to small s s and the conjoined ae have been changed to ae i have left the spelling punctuation capitalization as close as possible to the printed text i have corrected some spelling mistakes i have put together a spelling dictionary devised from the spellings of the geneva bible and shakespeare s first folio and have unified spellings according to this template typo s and expanded abbreviations as i have come across them everything within brackets is what i have added so if you don t like that you can delete everything within the brackets if you want a purer shakespeare another thing that you should be aware of is that there are textual differences between various copies of the first folio so there may be differences other than what i have mentioned above between this and other first folio editions this is due to the printer s habit of setting the type and running off a number of copies and then proofing the printed copy and correcting the type and then continuing the printing run the proof run wasn t thrown away but incorporated into the printed copies this is just the way it is the text i have used was a composite of more than 30 different first folio editions best pages if you find any scanning errors out and out typos punctuation errors or if you disagree with my spelling choices please feel free to email me those errors i wish to make this the best etext possible my email address for right now are haradda aol com and davidr inconnect com i hope that you enjoy this david reed the tragedie of macbeth actus primus scoena prima thunder and lightning enter three witches 1 when shall we three meet againe in thunder lightning or in raine 2 when the hurley burley s done when the battaile s lost and wonne 3 that will be ere the set of sunne 1 where the place 2 vpon the heath 3 there to meet with macbeth 1 i come gray malkin all padock calls anon faire is foule and foule is faire houer through the fogge and filthie ayre exeunt scena secunda alarum within enter king malcome donalbaine lenox with attendants meeting a bleeding captaine king what bloody man is that he can report as seemeth by his plight of the reuolt the newest state mal this is the serieant who like a good and hardie souldier fought gainst my captiuitie haile braue friend say to the king the knowledge of the broyle as thou didst leaue it cap doubtfull it stood as two spent swimmers that doe cling together and choake their art the mercilesse macdonwald worthie to be a rebell for to that the multiplying villanies of nature doe swarme vpon him from the westerne isles of kernes and gallowgrosses is supply d and fortune on his damned quarry smiling shew d like a rebells whore but all s too weake for braue macbeth well hee deserues that name disdayning fortune with his brandisht steele which smoak d with bloody execution like valours minion caru d out his passage till hee fac d the slaue which neu r shooke hands nor bad farwell to him till he vnseam d him from the naue toth chops and fix d his head vpon our battlements king o valiant cousin worthy gentleman cap as whence the sunne gins his reflection shipwracking stormes and direfull thunders so from that spring whence comfort seem d to come discomfort swells marke king of scotland marke no sooner iustice had with valour arm d compell d these skipping kernes to trust their heeles but the norweyan lord surueying vantage with furbusht armes and new supplyes of men began a fresh assault king dismay d not this our captaines macbeth and banquoh cap yes as sparrowes eagles or the hare the lyon if i say sooth i must report they were as cannons ouer charg d with double cracks so they doubly redoubled stroakes vpon the foe except they meant to bathe in reeking wounds or memorize another golgotha i cannot tell but i am faint my gashes cry for helpe king so well thy words become thee as thy wounds they smack of honor both goe get him surgeons enter rosse and angus who comes here mal the worthy thane of rosse lenox what a haste lookes through his eyes so should he looke that seemes to speake things strange rosse god saue the king king whence cam st thou worthy thane rosse from fiffe great king where the norweyan banners flowt the skie and fanne our people cold norway himselfe with terrible numbers assisted by that most disloyall traytor the thane of cawdor began a dismall conflict till that bellona s bridegroome lapt in proofe confronted him with selfe comparisons point against point rebellious arme gainst arme curbing his lauish spirit and to conclude the victorie fell on vs king great happinesse rosse that now sweno the norwayes king craues composition nor would we deigne him buriall of his men till he disbursed at saint colmes ynch ten thousand dollars to our generall vse king no more that thane of cawdor shall deceiue our bosome interest goe pronounce his present death and with his former title greet macbeth rosse ile see it done king what he hath lost noble macbeth hath wonne exeunt scena tertia thunder enter the three witches 1 where hast thou beene sister 2 killing swine 3 sister where thou 1 a saylors wife had chestnuts in her lappe and mouncht mouncht and mouncht giue me quoth i aroynt thee witch the rumpe fed ronyon cryes her husband s to aleppo gone master o th tiger but in a syue ile thither sayle and like a rat without a tayle ile doe ile doe and ile doe 2 ile giue thee a winde 1 th art kinde 3 and i another 1 i my selfe haue all the other and the very ports they blow all the quarters that they know i th ship mans card ile dreyne him drie as hay sleepe shall neyther night nor day hang vpon his pent house lid he shall liue a man forbid wearie seu nights nine times nine shall he dwin'"
      ]
     },
     "execution_count": 23,
     "metadata": {},
     "output_type": "execute_result"
    }
   ],
   "source": [
    "# Your code here\n",
    "\n",
    "macbeth_clean = re.sub(r'\\W+', ' ', macbeth).lower()\n",
    "# Pseudo-code Outline\n",
    "# Split the transcript into words\n",
    "#words = macbeth.split(\" \")\n",
    "# Create a dictionary\n",
    "#word_count = dict()\n",
    "# Iterate through the text of Macbeth\n",
    "#words[0:2]\n",
    "macbeth_clean[10000:19000]\n",
    "# Update word counts\n",
    "# Create Bar Graph\n",
    "# Include descriptive titles and labels"
   ]
  },
  {
   "cell_type": "markdown",
   "metadata": {},
   "source": [
    "### Level Up (Optional)\n",
    "This project should take you about an hour and a half to complete. If you're done much more quickly than that and are not behind in the course, feel free to deepen your knowledge by completing any or all of the following tasks until you run out of time:\n",
    "* Create a list of top characters by mentions of their names \n",
    "* Split the text by which character is talking\n",
    "* Create sub graphs of the most common words by character\n",
    "* Reduce the string to the text of the play itself. (Remove any initial notes, forward, introduction, appendix, etc.)\n",
    "* Come up with some other fun analyses of the text!"
   ]
  },
  {
   "cell_type": "code",
   "execution_count": 11,
   "metadata": {},
   "outputs": [
    {
     "data": {
      "text/plain": [
       "\"ditions.  This is due to the printer's\\r\\nhabit of setting the type and running off a number of copies and\\r\\nthen proofing the printed copy and correcting the type and then\\r\\ncontinuing the printing run.  The proof run wasn't thrown away but\\r\\nincorporated into the printed copies.  This is just the way it is.\\r\\nThe text I have used was a composite of more than 30 different\\r\\nFirst Folio editions' best pages.\\r\\n\\r\\nIf you find any scanning errors, out and out typos, punctuation\\r\\nerrors, or if you disagree with my spelling choices please feel\\r\\nfree to email me those errors.  I wish to make this the best\\r\\netext possible.  My email address for right now are haradda@aol.com\\r\\nand davidr@inconnect.com.  I hope that you enjoy this.\\r\\n\\r\\nDavid Reed\\r\\n\\r\\nThe Tragedie of Macbeth\\r\\n\\r\\nActus Primus. Scoena Prima.\\r\\n\\r\\nThunder and Lightning. Enter three Witches.\\r\\n\\r\\n  1. When shall we three meet againe?\\r\\nIn Thunder, Lightning, or in Raine?\\r\\n  2. When the Hurley-burley's done,\\r\\nWhen the Battaile's lost, and wonne\\r\\n\\r\\n   3. That will be ere the set of Sunne\\r\\n\\r\\n   1. Where the place?\\r\\n  2. Vpon the Heath\\r\\n\\r\\n   3. There to meet with Macbeth\\r\\n\\r\\n   1. I come, Gray-Malkin\\r\\n\\r\\n   All. Padock calls anon: faire is foule, and foule is faire,\\r\\nHouer through the fogge and filthie ayre.\\r\\n\\r\\nExeunt.\\r\\n\\r\\n\\r\\nScena Secunda.\\r\\n\\r\\nAlarum within. Enter King, Malcome, Donalbaine, Lenox, with\\r\\nattendants, meeting a bleeding Captaine.\\r\\n\\r\\n  King. What bloody man is that? he can report,\\r\\nAs seemeth by his plight, of the Reuolt\\r\\nThe newest state\\r\\n\\r\\n   Mal. This is the Serieant,\\r\\nWho like a good and hardie Souldier fought\\r\\n'Gainst my Captiuitie: Haile braue friend;\\r\\nSay to the King, the knowledge of the Broyle,\\r\\nAs thou didst leaue it\\r\\n\\r\\n   Cap. Doubtfull it stood,\\r\\nAs two spent Swimmers, that doe cling together,\\r\\nAnd choake their Art: The mercilesse Macdonwald\\r\\n(Worthie to be a Rebell, for to that\\r\\nThe multiplying Villanies of Nature\\r\\nDoe swarme vpon him) from the Westerne Isles\\r\\nOf Kernes and Gallowgrosses is supply'd,\\r\\nAnd Fortune on his damned Quarry smiling,\\r\\nShew'd like a Rebells Whore: but all's too weake:\\r\\nFor braue Macbeth (well hee deserues that Name)\\r\\nDisdayning Fortune, with his brandisht Steele,\\r\\nWhich smoak'd with bloody execution\\r\\n(Like Valours Minion) caru'd out his passage,\\r\\nTill hee fac'd the Slaue:\\r\\nWhich neu'r shooke hands, nor bad farwell to him,\\r\\nTill he vnseam'd him from the Naue toth' Chops,\\r\\nAnd fix'd his Head vpon our Battlements\\r\\n\\r\\n   King. O valiant Cousin, worthy Gentleman\\r\\n\\r\\n   Cap. As whence the Sunne 'gins his reflection,\\r\\nShipwracking Stormes, and direfull Thunders:\\r\\nSo from that Spring, whence comfort seem'd to come,\\r\\nDiscomfort swells: Marke King of Scotland, marke,\\r\\nNo sooner Iustice had, with Valour arm'd,\\r\\nCompell'd these skipping Kernes to trust their heeles,\\r\\nBut the Norweyan Lord, surueying vantage,\\r\\nWith furbusht Armes, and new supplyes of men,\\r\\nBegan a fresh assault\\r\\n\\r\\n   King. Dismay'd not this our Captaines, Macbeth and\\r\\nBanquoh?\\r\\n  Cap. Yes, as Sparrowes, Eagles;\\r\\nOr the Hare, the Lyon:\\r\\nIf I say sooth, I must report they were\\r\\nAs Cannons ouer-charg'd with double Cracks,\\r\\nSo they doubly redoubled stroakes vpon the Foe:\\r\\nExcept they meant to bathe in reeking Wounds,\\r\\nOr memorize another Golgotha,\\r\\nI cannot tell: but I am faint,\\r\\nMy Gashes cry for helpe\\r\\n\\r\\n   King. So well thy words become thee, as thy wounds,\\r\\nThey smack of Honor both: Goe get him Surgeons.\\r\\nEnter Rosse and Angus.\\r\\n\\r\\nWho comes here?\\r\\n  Mal. The worthy Thane of Rosse\\r\\n\\r\\n   Lenox. What a haste lookes through his eyes?\\r\\nSo should he looke, that seemes to speake things strange\\r\\n\\r\\n   Rosse. God saue the King\\r\\n\\r\\n   King. Whence cam'st thou, worthy Thane?\\r\\n  Rosse. From Fiffe, great King,\\r\\nWhere the Norweyan Banners flowt the Skie,\\r\\nAnd fanne our people cold.\\r\\nNorway himselfe, with terrible numbers,\\r\\nAssisted by that most disloyall Traytor,\\r\\nThe Thane of Cawdor, began a dismall Conflict,\\r\\nTill that Bellona's Bridegroome, lapt in proofe,\\r\\nConfronted him with selfe-comparisons,\\r\\nPoint agains\""
      ]
     },
     "execution_count": 11,
     "metadata": {},
     "output_type": "execute_result"
    }
   ],
   "source": [
    "macbeth[15500:19500]"
   ]
  },
  {
   "cell_type": "markdown",
   "metadata": {},
   "source": [
    "## Summary\n",
    "Congratulations! You've got some extra practice combining various data types into useful programming patterns and done an intitial analysis of a classic text!"
   ]
  }
 ],
 "metadata": {
  "kernelspec": {
   "display_name": "Python 3",
   "language": "python",
   "name": "python3"
  },
  "language_info": {
   "codemirror_mode": {
    "name": "ipython",
    "version": 3
   },
   "file_extension": ".py",
   "mimetype": "text/x-python",
   "name": "python",
   "nbconvert_exporter": "python",
   "pygments_lexer": "ipython3",
   "version": "3.6.6"
  }
 },
 "nbformat": 4,
 "nbformat_minor": 2
}
