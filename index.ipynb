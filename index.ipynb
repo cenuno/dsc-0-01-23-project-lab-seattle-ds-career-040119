{
 "cells": [
  {
   "cell_type": "markdown",
   "metadata": {},
   "source": [
    "# Project: Analyzing Macbeth"
   ]
  },
  {
   "cell_type": "markdown",
   "metadata": {},
   "source": [
    "## Introduction\n",
    "For our first day and first data science project, we're going to do some rudimentry analysis of Shakespeare's classic play: Macbeth! You will get practice working with lists, condtionals and dictionaries, visualizing data, and thinking analytically about data."
   ]
  },
  {
   "cell_type": "markdown",
   "metadata": {},
   "source": [
    "## Objectives\n",
    "You will be able to:\n",
    "* Show mastery of the content covered in this section"
   ]
  },
  {
   "cell_type": "markdown",
   "metadata": {},
   "source": [
    "### Getting the Data\n",
    "Here we start by importing a python package and using it to pull the transcript of Macbeth from the project Gutenberg website. We also preview a few details about what is now stored in the variable macbeth; it's a string with 119,846 characters, the first 500 of which are printed below. "
   ]
  },
  {
   "cell_type": "code",
   "execution_count": 1,
   "metadata": {},
   "outputs": [
    {
     "name": "stdout",
     "output_type": "stream",
     "text": [
      "<class 'str'>\n",
      "119846\n",
      "﻿***The Project Gutenberg's Etext of Shakespeare's First Folio***\r\n",
      "********************The Tragedie of Macbeth*********************\r\n",
      "\r\n",
      "This is our 3rd edition of most of these plays.  See the index.\r\n",
      "\r\n",
      "\r\n",
      "Copyright laws are changing all over the world, be sure to check\r\n",
      "the copyright laws for your country before posting these files!!\r\n",
      "\r\n",
      "Please take a look at the important information in this header.\r\n",
      "We encourage you to keep this file on your own disk, keeping an\r\n",
      "electronic path open for the nex\n"
     ]
    }
   ],
   "source": [
    "import requests\n",
    "macbeth = requests.get('http://www.gutenberg.org/cache/epub/2264/pg2264.txt').text\n",
    "\n",
    "print(type(macbeth))\n",
    "print(len(macbeth))\n",
    "print(macbeth[:500])"
   ]
  },
  {
   "cell_type": "markdown",
   "metadata": {},
   "source": [
    "### Your Task\n",
    "\n",
    "Your task is to create a bar graph of the 25 most common words in the Shakespeare's Macbeth.  \n",
    "\n",
    "\n",
    "A common python programming pattern to counting objects, produce histograms, or update statistics is to make calls to a dictionary as you iterate through a list. For example, given a list of words, you can create a dictionary to store counts and then iterate through the list of words, checking how many times each word has appeared using your dictionary, and updating the dictionary count now that you've seen that word again. The `dictionary.get()` method is very useful in doing this. Read the docstring for the dictionary.get() method and use it along with the pseudocode above to create a bar graph of the 25 most common words from the transcript of Macbeth which has been loaded into a variable 'Macbeth'. Be sure to include a title and appropriate labels for your graph."
   ]
  },
  {
   "cell_type": "code",
   "execution_count": 2,
   "metadata": {},
   "outputs": [
    {
     "data": {
      "text/plain": [
       "['\\ufeff***The', 'Project']"
      ]
     },
     "execution_count": 2,
     "metadata": {},
     "output_type": "execute_result"
    }
   ],
   "source": [
    "# Your code here\n",
    "\n",
    "# Pseudo-code Outline\n",
    "# Split the transcript into words\n",
    "words = macbeth.split(\" \")\n",
    "# Create a dictionary\n",
    "word_count = dict()\n",
    "# Iterate through the text of Macbeth\n",
    "words[0:2]\n",
    "# Update word counts\n",
    "# Create Bar Graph\n",
    "# Include descriptive titles and labels"
   ]
  },
  {
   "cell_type": "markdown",
   "metadata": {},
   "source": [
    "### Level Up (Optional)\n",
    "This project should take you about an hour and a half to complete. If you're done much more quickly than that and are not behind in the course, feel free to deepen your knowledge by completing any or all of the following tasks until you run out of time:\n",
    "* Create a list of top characters by mentions of their names \n",
    "* Split the text by which character is talking\n",
    "* Create sub graphs of the most common words by character\n",
    "* Reduce the string to the text of the play itself. (Remove any initial notes, forward, introduction, appendix, etc.)\n",
    "* Come up with some other fun analyses of the text!"
   ]
  },
  {
   "cell_type": "code",
   "execution_count": 9,
   "metadata": {},
   "outputs": [
    {
     "data": {
      "text/plain": [
       "'replacement\\r\\ncopy.  If you received it electronically, such person may\\r\\nchoose to alternatively give you a second opportunity to\\r\\nreceive it electronically.\\r\\n\\r\\nTHIS ETEXT IS OTHERWISE PROVIDED TO YOU \"AS-IS\".  NO OTHER\\r\\nWARRANTIES OF ANY KIND, EXPRESS OR IMPLIED, ARE MADE TO YOU AS\\r\\nTO THE ETEXT OR ANY MEDIUM IT MAY BE ON, INCLUDING BUT NOT\\r\\nLIMITED TO WARRANTIES OF MERCHANTABILITY OR FITNESS FOR A\\r\\nPARTICULAR PURPOSE.\\r\\n\\r\\nSome states do not allow disclaimers of implied warranties or\\r\\nthe exclusion or limitation of consequential damages, so the\\r\\nabove disclaimers and exclusions may not apply to you, and you\\r\\nmay have other legal rights.\\r\\n\\r\\nINDEMNITY\\r\\nYou will indemnify and hold the Project, its directors,\\r\\nofficers, members and agents harmless from all liability, cost\\r\\nand expense, including legal fees, that arise directly or\\r\\nindirectly from any of the following that you do or cause:\\r\\n[1] distribution of this etext, [2] alteration, modification,\\r\\nor addition to the etext, or [3] any Defect.\\r\\n\\r\\nDISTRIBUTION UNDER \"PROJECT GUTENBERG-tm\"\\r\\nYou may distribute copies of this etext electronically, or by\\r\\ndisk, book or any other medium if you either delete this\\r\\n\"Small Print!\" and all other references to Project Gutenberg,\\r\\nor:\\r\\n\\r\\n[1]  Only give exact copies of it.  Among other things, this\\r\\n     requires that you do not remove, alter or modify the\\r\\n     etext or this \"small print!\" statement.  You may however,\\r\\n     if you wish, distribute this etext in machine readable\\r\\n     binary, compressed, mark-up, or proprietary form,\\r\\n     including any form resulting from conversion by word pro-\\r\\n     cessing or hypertext software, but only so long as\\r\\n     *EITHER*:\\r\\n\\r\\n     [*]  The etext, when displayed, is clearly readable, and\\r\\n          does *not* contain characters other than those\\r\\n          intended by the author of the work, although tilde\\r\\n          (~), asterisk (*) and underline (_) characters may\\r\\n          be used to convey punctuation intended by the\\r\\n          author, and additional characters may be used to\\r\\n          indicate hypertext links; OR\\r\\n\\r\\n     [*]  The etext may be readily converted by the reader at\\r\\n          no expense into plain ASCII, EBCDIC or equivalent\\r\\n          form by the program that displays the etext (as is\\r\\n          the case, for instance, with most word processors);\\r\\n          OR\\r\\n\\r\\n     [*]  You provide, or agree to also provide on request at\\r\\n          no additional cost, fee or expense, a copy of the\\r\\n          etext in its original plain ASCII form (or in EBCDIC\\r\\n          or other equivalent proprietary form).\\r\\n\\r\\n[2]  Honor the etext refund and replacement provisions of this\\r\\n     \"Small Print!\" statement.\\r\\n\\r\\n[3]  Pay a trademark license fee to the Project of 20% of the\\r\\n     net profits you derive calculated using the method you\\r\\n     already use to calculate your applicable taxes.  If you\\r\\n     don\\'t derive profits, no royalty is due.  Royalties are\\r\\n     payable to \"Project Gutenberg Association/Carnegie-Mellon\\r\\n     University\" within the 60 days following each\\r\\n     date you prepare (or were legally required to prepare)\\r\\n     your annual (or equivalent periodic) tax return.\\r\\n\\r\\nWHAT IF YOU *WANT* TO SEND MONEY EVEN IF YOU DON\\'T HAVE TO?\\r\\nThe Project gratefully accepts contributions in money, time,\\r\\nscanning machines, OCR software, public domain etexts, royalty\\r\\nfree copyright licenses, and every other sort of contribution\\r\\nyou can think of.  Money should be paid to \"Project Gutenberg\\r\\nAssociation / Carnegie-Mellon University\".\\r\\n\\r\\n*END*THE SMALL PRINT! FOR PUBLIC DOMAIN ETEXTS*Ver.04.29.93*END*\\r\\n\\r\\n\\r\\n\\r\\n\\r\\n\\r\\nProject Gutenberg\\'s Etext of Shakespeare\\'s The Tragedie of Macbeth\\r\\n\\r\\n\\r\\n\\r\\n\\r\\n\\r\\nExecutive Director\\'s Notes:\\r\\n\\r\\nIn addition to the notes below, and so you will *NOT* think all\\r\\nthe spelling errors introduced by the printers of the time have\\r\\nbeen corrected, here are the first few lines of Hamlet, as they\\r\\nare presented herein:\\r\\n\\r\\n  Barnardo. Who\\'s there?\\r\\n  Fran. Nay answer me: Stand & vnfold'"
      ]
     },
     "execution_count": 9,
     "metadata": {},
     "output_type": "execute_result"
    }
   ],
   "source": [
    "macbeth[8500:12500]"
   ]
  },
  {
   "cell_type": "markdown",
   "metadata": {},
   "source": [
    "## Summary\n",
    "Congratulations! You've got some extra practice combining various data types into useful programming patterns and done an intitial analysis of a classic text!"
   ]
  }
 ],
 "metadata": {
  "kernelspec": {
   "display_name": "Python 3",
   "language": "python",
   "name": "python3"
  },
  "language_info": {
   "codemirror_mode": {
    "name": "ipython",
    "version": 3
   },
   "file_extension": ".py",
   "mimetype": "text/x-python",
   "name": "python",
   "nbconvert_exporter": "python",
   "pygments_lexer": "ipython3",
   "version": "3.6.6"
  }
 },
 "nbformat": 4,
 "nbformat_minor": 2
}
