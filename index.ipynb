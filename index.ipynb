{
 "cells": [
  {
   "cell_type": "markdown",
   "metadata": {},
   "source": [
    "# Project: Analyzing Macbeth"
   ]
  },
  {
   "cell_type": "markdown",
   "metadata": {},
   "source": [
    "## Introduction\n",
    "For our first day and first data science project, we're going to do some rudimentry analysis of Shakespeare's classic play: Macbeth! You will get practice working with lists, condtionals and dictionaries, visualizing data, and thinking analytically about data."
   ]
  },
  {
   "cell_type": "markdown",
   "metadata": {},
   "source": [
    "## Objectives\n",
    "You will be able to:\n",
    "* Show mastery of the content covered in this section"
   ]
  },
  {
   "cell_type": "markdown",
   "metadata": {},
   "source": [
    "### Getting the Data\n",
    "Here we start by importing a python package and using it to pull the transcript of Macbeth from the project Gutenberg website. We also preview a few details about what is now stored in the variable macbeth; it's a string with 119,846 characters, the first 500 of which are printed below. "
   ]
  },
  {
   "cell_type": "code",
   "execution_count": 12,
   "metadata": {},
   "outputs": [
    {
     "name": "stdout",
     "output_type": "stream",
     "text": [
      "<class 'str'>\n",
      "119846\n",
      "﻿***The Project Gutenberg's Etext of Shakespeare's First Folio***\r\n",
      "********************The Tragedie of Macbeth*********************\r\n",
      "\r\n",
      "This is our 3rd edition of most of these plays.  See the index.\r\n",
      "\r\n",
      "\r\n",
      "Copyright laws are changing all over the world, be sure to check\r\n",
      "the copyright laws for your country before posting these files!!\r\n",
      "\r\n",
      "Please take a look at the important information in this header.\r\n",
      "We encourage you to keep this file on your own disk, keeping an\r\n",
      "electronic path open for the nex\n"
     ]
    }
   ],
   "source": [
    "import requests\n",
    "import re\n",
    "import string\n",
    "\n",
    "macbeth = requests.get('http://www.gutenberg.org/cache/epub/2264/pg2264.txt').text\n",
    "\n",
    "print(type(macbeth))\n",
    "print(len(macbeth))\n",
    "print(macbeth[:500])"
   ]
  },
  {
   "cell_type": "markdown",
   "metadata": {},
   "source": [
    "### Your Task\n",
    "\n",
    "Your task is to create a bar graph of the 25 most common words in the Shakespeare's Macbeth.  \n",
    "\n",
    "\n",
    "A common python programming pattern to counting objects, produce histograms, or update statistics is to make calls to a dictionary as you iterate through a list. For example, given a list of words, you can create a dictionary to store counts and then iterate through the list of words, checking how many times each word has appeared using your dictionary, and updating the dictionary count now that you've seen that word again. The `dictionary.get()` method is very useful in doing this. Read the docstring for the dictionary.get() method and use it along with the pseudocode above to create a bar graph of the 25 most common words from the transcript of Macbeth which has been loaded into a variable 'Macbeth'. Be sure to include a title and appropriate labels for your graph."
   ]
  },
  {
   "cell_type": "code",
   "execution_count": 102,
   "metadata": {},
   "outputs": [
    {
     "data": {
      "text/plain": [
       "<matplotlib.legend.Legend at 0x7f18fe6f5f28>"
      ]
     },
     "execution_count": 102,
     "metadata": {},
     "output_type": "execute_result"
    },
    {
     "data": {
      "image/png": "[encoded data removed]",
      "text/plain": [
       "<Figure size 720x432 with 1 Axes>"
      ]
     },
     "metadata": {
      "needs_background": "light"
     },
     "output_type": "display_data"
    }
   ],
   "source": [
    "# Your code here\n",
    "import pandas as pd\n",
    "import matplotlib.pyplot as plt\n",
    "\n",
    "# Set plot space as inline for inline plots and qt for external plots\n",
    "%matplotlib inline\n",
    "\n",
    "# import stop words\n",
    "stop_words_df = pd.read_csv(\"https://algs4.cs.princeton.edu/35applications/stopwords.txt\",\n",
    "                            header = None)\n",
    "stop_words = list(stop_words_df[0])\n",
    "\n",
    "# clean the string so that all non alpha numeric characters\n",
    "# are replaced with empty space\n",
    "# are then lower cased\n",
    "# and the string moves past the legal text in the beginning\n",
    "macbeth_clean = re.sub(r'\\W+', ' ', macbeth).lower()\n",
    "macbeth_clean = macbeth_clean[14813:]\n",
    "# Pseudo-code Outline\n",
    "# Split the transcript into words\n",
    "words = macbeth_clean.split(\" \")\n",
    "\n",
    "# remove stop words from the list of words\n",
    "words_meaningful = [word for word in words if word not in stop_words]\n",
    "\n",
    "# Deduplicate words\n",
    "unique_words = set(words_meaningful)\n",
    "\n",
    "# Create a dictionary where each key is a unique word and each value is 0\n",
    "word_count = dict.fromkeys(unique_words, 0)\n",
    "\n",
    "# Iterate through the text of Macbeth\n",
    "# Update word counts\n",
    "# note: each time word appears in the list words_meaningful,\n",
    "#       add a value of 1 to the value for that specific key\n",
    "for word in words_meaningful:\n",
    "    word_count[word] = word_count[word] + 1\n",
    "    \n",
    "# transfrom word count to a data frame\n",
    "word_count_df = pd.DataFrame.from_dict(word_count, orient = \"index\")\n",
    "word_count_df = word_count_df.reset_index()\n",
    "word_count_df = word_count_df.rename(columns = {\"index\": \"word\", 0: \"n\"})\n",
    "word_count_df = word_count_df.sort_values(by = \"n\", ascending = False)\n",
    "word_count_df.head(25)\n",
    "    \n",
    "# Create Bar Graph\n",
    "# Set the figure size in inches\n",
    "plt.figure(figsize=(10, 6))\n",
    "plt.barh(y = word_count_df.head(25)[\"word\"], \n",
    "         width = word_count_df.head(25)[\"n\"],\n",
    "         label = \"Common stop words were excluded\")\n",
    "\n",
    "# Include descriptive titles and labels\n",
    "plt.xlabel('Count')\n",
    "plt.ylabel('Word')\n",
    "\n",
    "plt.title(\"Top 25 words in Shakespeare's Macbeth\")\n",
    "plt.legend()"
   ]
  },
  {
   "cell_type": "markdown",
   "metadata": {},
   "source": [
    "### Level Up (Optional)\n",
    "This project should take you about an hour and a half to complete. If you're done much more quickly than that and are not behind in the course, feel free to deepen your knowledge by completing any or all of the following tasks until you run out of time:\n",
    "* Create a list of top characters by mentions of their names \n",
    "* Split the text by which character is talking\n",
    "* Create sub graphs of the most common words by character\n",
    "* Reduce the string to the text of the play itself. (Remove any initial notes, forward, introduction, appendix, etc.)\n",
    "* Come up with some other fun analyses of the text!"
   ]
  },
  {
   "cell_type": "code",
   "execution_count": 11,
   "metadata": {},
   "outputs": [
    {
     "data": {
      "text/plain": [
       "\"ditions.  This is due to the printer's\\r\\nhabit of setting the type and running off a number of copies and\\r\\nthen proofing the printed copy and correcting the type and then\\r\\ncontinuing the printing run.  The proof run wasn't thrown away but\\r\\nincorporated into the printed copies.  This is just the way it is.\\r\\nThe text I have used was a composite of more than 30 different\\r\\nFirst Folio editions' best pages.\\r\\n\\r\\nIf you find any scanning errors, out and out typos, punctuation\\r\\nerrors, or if you disagree with my spelling choices please feel\\r\\nfree to email me those errors.  I wish to make this the best\\r\\netext possible.  My email address for right now are haradda@aol.com\\r\\nand davidr@inconnect.com.  I hope that you enjoy this.\\r\\n\\r\\nDavid Reed\\r\\n\\r\\nThe Tragedie of Macbeth\\r\\n\\r\\nActus Primus. Scoena Prima.\\r\\n\\r\\nThunder and Lightning. Enter three Witches.\\r\\n\\r\\n  1. When shall we three meet againe?\\r\\nIn Thunder, Lightning, or in Raine?\\r\\n  2. When the Hurley-burley's done,\\r\\nWhen the Battaile's lost, and wonne\\r\\n\\r\\n   3. That will be ere the set of Sunne\\r\\n\\r\\n   1. Where the place?\\r\\n  2. Vpon the Heath\\r\\n\\r\\n   3. There to meet with Macbeth\\r\\n\\r\\n   1. I come, Gray-Malkin\\r\\n\\r\\n   All. Padock calls anon: faire is foule, and foule is faire,\\r\\nHouer through the fogge and filthie ayre.\\r\\n\\r\\nExeunt.\\r\\n\\r\\n\\r\\nScena Secunda.\\r\\n\\r\\nAlarum within. Enter King, Malcome, Donalbaine, Lenox, with\\r\\nattendants, meeting a bleeding Captaine.\\r\\n\\r\\n  King. What bloody man is that? he can report,\\r\\nAs seemeth by his plight, of the Reuolt\\r\\nThe newest state\\r\\n\\r\\n   Mal. This is the Serieant,\\r\\nWho like a good and hardie Souldier fought\\r\\n'Gainst my Captiuitie: Haile braue friend;\\r\\nSay to the King, the knowledge of the Broyle,\\r\\nAs thou didst leaue it\\r\\n\\r\\n   Cap. Doubtfull it stood,\\r\\nAs two spent Swimmers, that doe cling together,\\r\\nAnd choake their Art: The mercilesse Macdonwald\\r\\n(Worthie to be a Rebell, for to that\\r\\nThe multiplying Villanies of Nature\\r\\nDoe swarme vpon him) from the Westerne Isles\\r\\nOf Kernes and Gallowgrosses is supply'd,\\r\\nAnd Fortune on his damned Quarry smiling,\\r\\nShew'd like a Rebells Whore: but all's too weake:\\r\\nFor braue Macbeth (well hee deserues that Name)\\r\\nDisdayning Fortune, with his brandisht Steele,\\r\\nWhich smoak'd with bloody execution\\r\\n(Like Valours Minion) caru'd out his passage,\\r\\nTill hee fac'd the Slaue:\\r\\nWhich neu'r shooke hands, nor bad farwell to him,\\r\\nTill he vnseam'd him from the Naue toth' Chops,\\r\\nAnd fix'd his Head vpon our Battlements\\r\\n\\r\\n   King. O valiant Cousin, worthy Gentleman\\r\\n\\r\\n   Cap. As whence the Sunne 'gins his reflection,\\r\\nShipwracking Stormes, and direfull Thunders:\\r\\nSo from that Spring, whence comfort seem'd to come,\\r\\nDiscomfort swells: Marke King of Scotland, marke,\\r\\nNo sooner Iustice had, with Valour arm'd,\\r\\nCompell'd these skipping Kernes to trust their heeles,\\r\\nBut the Norweyan Lord, surueying vantage,\\r\\nWith furbusht Armes, and new supplyes of men,\\r\\nBegan a fresh assault\\r\\n\\r\\n   King. Dismay'd not this our Captaines, Macbeth and\\r\\nBanquoh?\\r\\n  Cap. Yes, as Sparrowes, Eagles;\\r\\nOr the Hare, the Lyon:\\r\\nIf I say sooth, I must report they were\\r\\nAs Cannons ouer-charg'd with double Cracks,\\r\\nSo they doubly redoubled stroakes vpon the Foe:\\r\\nExcept they meant to bathe in reeking Wounds,\\r\\nOr memorize another Golgotha,\\r\\nI cannot tell: but I am faint,\\r\\nMy Gashes cry for helpe\\r\\n\\r\\n   King. So well thy words become thee, as thy wounds,\\r\\nThey smack of Honor both: Goe get him Surgeons.\\r\\nEnter Rosse and Angus.\\r\\n\\r\\nWho comes here?\\r\\n  Mal. The worthy Thane of Rosse\\r\\n\\r\\n   Lenox. What a haste lookes through his eyes?\\r\\nSo should he looke, that seemes to speake things strange\\r\\n\\r\\n   Rosse. God saue the King\\r\\n\\r\\n   King. Whence cam'st thou, worthy Thane?\\r\\n  Rosse. From Fiffe, great King,\\r\\nWhere the Norweyan Banners flowt the Skie,\\r\\nAnd fanne our people cold.\\r\\nNorway himselfe, with terrible numbers,\\r\\nAssisted by that most disloyall Traytor,\\r\\nThe Thane of Cawdor, began a dismall Conflict,\\r\\nTill that Bellona's Bridegroome, lapt in proofe,\\r\\nConfronted him with selfe-comparisons,\\r\\nPoint agains\""
      ]
     },
     "execution_count": 11,
     "metadata": {},
     "output_type": "execute_result"
    }
   ],
   "source": [
    "macbeth[15500:19500]"
   ]
  },
  {
   "cell_type": "markdown",
   "metadata": {},
   "source": [
    "## Summary\n",
    "Congratulations! You've got some extra practice combining various data types into useful programming patterns and done an intitial analysis of a classic text!"
   ]
  }
 ],
 "metadata": {
  "kernelspec": {
   "display_name": "Python 3",
   "language": "python",
   "name": "python3"
  },
  "language_info": {
   "codemirror_mode": {
    "name": "ipython",
    "version": 3
   },
   "file_extension": ".py",
   "mimetype": "text/x-python",
   "name": "python",
   "nbconvert_exporter": "python",
   "pygments_lexer": "ipython3",
   "version": "3.6.6"
  }
 },
 "nbformat": 4,
 "nbformat_minor": 2
}
