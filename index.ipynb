{
 "cells": [
  {
   "cell_type": "markdown",
   "metadata": {},
   "source": [
    "# Project: Analyzing Macbeth"
   ]
  },
  {
   "cell_type": "markdown",
   "metadata": {},
   "source": [
    "## Introduction\n",
    "For our first day and first data science project, we're going to do some rudimentry analysis of Shakespeare's classic play: Macbeth! You will get practice working with lists, condtionals and dictionaries, visualizing data, and thinking analytically about data."
   ]
  },
  {
   "cell_type": "markdown",
   "metadata": {},
   "source": [
    "## Objectives\n",
    "You will be able to:\n",
    "* Show mastery of the content covered in this section"
   ]
  },
  {
   "cell_type": "markdown",
   "metadata": {},
   "source": [
    "### Getting the Data\n",
    "Here we start by importing a python package and using it to pull the transcript of Macbeth from the project Gutenberg website. We also preview a few details about what is now stored in the variable macbeth; it's a string with 119,846 characters, the first 500 of which are printed below. "
   ]
  },
  {
   "cell_type": "code",
   "execution_count": 1,
   "metadata": {},
   "outputs": [
    {
     "name": "stdout",
     "output_type": "stream",
     "text": [
      "<class 'str'>\n",
      "119846\n",
      "﻿***The Project Gutenberg's Etext of Shakespeare's First Folio***\r\n",
      "********************The Tragedie of Macbeth*********************\r\n",
      "\r\n",
      "This is our 3rd edition of most of these plays.  See the index.\r\n",
      "\r\n",
      "\r\n",
      "Copyright laws are changing all over the world, be sure to check\r\n",
      "the copyright laws for your country before posting these files!!\r\n",
      "\r\n",
      "Please take a look at the important information in this header.\r\n",
      "We encourage you to keep this file on your own disk, keeping an\r\n",
      "electronic path open for the nex\n"
     ]
    }
   ],
   "source": [
    "import requests\n",
    "macbeth = requests.get('http://www.gutenberg.org/cache/epub/2264/pg2264.txt').text\n",
    "\n",
    "print(type(macbeth))\n",
    "print(len(macbeth))\n",
    "print(macbeth[:500])"
   ]
  },
  {
   "cell_type": "markdown",
   "metadata": {},
   "source": [
    "### Your Task\n",
    "\n",
    "Your task is to create a bar graph of the 25 most common words in the Shakespeare's Macbeth.  \n",
    "\n",
    "\n",
    "A common python programming pattern to counting objects, produce histograms, or update statistics is to make calls to a dictionary as you iterate through a list. For example, given a list of words, you can create a dictionary to store counts and then iterate through the list of words, checking how many times each word has appeared using your dictionary, and updating the dictionary count now that you've seen that word again. The `dictionary.get()` method is very useful in doing this. Read the docstring for the dictionary.get() method and use it along with the pseudocode above to create a bar graph of the 25 most common words from the transcript of Macbeth which has been loaded into a variable 'Macbeth'. Be sure to include a title and appropriate labels for your graph."
   ]
  },
  {
   "cell_type": "code",
   "execution_count": 2,
   "metadata": {},
   "outputs": [
    {
     "data": {
      "text/plain": [
       "['\\ufeff***The', 'Project']"
      ]
     },
     "execution_count": 2,
     "metadata": {},
     "output_type": "execute_result"
    }
   ],
   "source": [
    "# Your code here\n",
    "\n",
    "# Pseudo-code Outline\n",
    "# Split the transcript into words\n",
    "words = macbeth.split(\" \")\n",
    "# Create a dictionary\n",
    "word_count = dict()\n",
    "# Iterate through the text of Macbeth\n",
    "words[0:2]\n",
    "# Update word counts\n",
    "# Create Bar Graph\n",
    "# Include descriptive titles and labels"
   ]
  },
  {
   "cell_type": "markdown",
   "metadata": {},
   "source": [
    "### Level Up (Optional)\n",
    "This project should take you about an hour and a half to complete. If you're done much more quickly than that and are not behind in the course, feel free to deepen your knowledge by completing any or all of the following tasks until you run out of time:\n",
    "* Create a list of top characters by mentions of their names \n",
    "* Split the text by which character is talking\n",
    "* Create sub graphs of the most common words by character\n",
    "* Reduce the string to the text of the play itself. (Remove any initial notes, forward, introduction, appendix, etc.)\n",
    "* Come up with some other fun analyses of the text!"
   ]
  },
  {
   "cell_type": "code",
   "execution_count": 10,
   "metadata": {},
   "outputs": [
    {
     "data": {
      "text/plain": [
       "'\\r\\nyour selfe\\r\\n\\r\\n   Bar. Long liue the King\\r\\n\\r\\n***\\r\\n\\r\\nAs I understand it, the printers often ran out of certain words\\r\\nor letters they had often packed into a \"cliche\". . .this is the\\r\\noriginal meaning of the term cliche. . .and thus, being unwilling\\r\\nto unpack the cliches, and thus you will see some substitutions\\r\\nthat look very odd. . .such as the exchanges of u for v, v for u,\\r\\nabove. . .and you may wonder why they did it this way, presuming\\r\\nShakespeare did not actually write the play in this manner. . . .\\r\\n\\r\\nThe answer is that they MAY have packed \"liue\" into a cliche at a\\r\\ntime when they were out of \"v\"\\'s. . .possibly having used \"vv\" in\\r\\nplace of some \"w\"\\'s, etc.  This was a common practice of the day,\\r\\nas print was still quite expensive, and they didn\\'t want to spend\\r\\nmore on a wider selection of characters than they had to.\\r\\n\\r\\nYou will find a lot of these kinds of \"errors\" in this text, as I\\r\\nhave mentioned in other times and places, many \"scholars\" have an\\r\\nextreme attachment to these errors, and many have accorded them a\\r\\nvery high place in the \"canon\" of Shakespeare.  My father read an\\r\\nassortment of these made available to him by Cambridge University\\r\\nin England for several months in a glass room constructed for the\\r\\npurpose.  To the best of my knowledge he read ALL those available\\r\\n. . .in great detail. . .and determined from the various changes,\\r\\nthat Shakespeare most likely did not write in nearly as many of a\\r\\nvariety of errors we credit him for, even though he was in/famous\\r\\nfor signing his name with several different spellings.\\r\\n\\r\\nSo, please take this into account when reading the comments below\\r\\nmade by our volunteer who prepared this file:  you may see errors\\r\\nthat are \"not\" errors. . . .\\r\\n\\r\\nSo. . .with this caveat. . .we have NOT changed the canon errors,\\r\\nhere is the Project Gutenberg Etext of Shakespeare\\'s The Tragedie\\r\\nof Macbeth.\\r\\n\\r\\nMichael S. Hart\\r\\nProject Gutenberg\\r\\nExecutive Director\\r\\n\\r\\n\\r\\n***\\r\\n\\r\\n\\r\\nScanner\\'s Notes: What this is and isn\\'t.  This was taken from\\r\\na copy of Shakespeare\\'s first folio and it is as close as I can\\r\\ncome in ASCII to the printed text.\\r\\n\\r\\nThe elongated S\\'s have been changed to small s\\'s and the\\r\\nconjoined ae have been changed to ae.  I have left the spelling,\\r\\npunctuation, capitalization as close as possible to the\\r\\nprinted text.  I have corrected some spelling mistakes (I have put\\r\\ntogether a spelling dictionary devised from the spellings of the\\r\\nGeneva Bible and Shakespeare\\'s First Folio and have unified\\r\\nspellings according to this template), typo\\'s and expanded\\r\\nabbreviations as I have come across them.  Everything within\\r\\nbrackets [] is what I have added.  So if you don\\'t like that\\r\\nyou can delete everything within the brackets if you want a\\r\\npurer Shakespeare.\\r\\n\\r\\nAnother thing that you should be aware of is that there are textual\\r\\ndifferences between various copies of the first folio.  So there may\\r\\nbe differences (other than what I have mentioned above) between\\r\\nthis and other first folio e'"
      ]
     },
     "execution_count": 10,
     "metadata": {},
     "output_type": "execute_result"
    }
   ],
   "source": [
    "macbeth[12500:15500]"
   ]
  },
  {
   "cell_type": "markdown",
   "metadata": {},
   "source": [
    "## Summary\n",
    "Congratulations! You've got some extra practice combining various data types into useful programming patterns and done an intitial analysis of a classic text!"
   ]
  }
 ],
 "metadata": {
  "kernelspec": {
   "display_name": "Python 3",
   "language": "python",
   "name": "python3"
  },
  "language_info": {
   "codemirror_mode": {
    "name": "ipython",
    "version": 3
   },
   "file_extension": ".py",
   "mimetype": "text/x-python",
   "name": "python",
   "nbconvert_exporter": "python",
   "pygments_lexer": "ipython3",
   "version": "3.6.6"
  }
 },
 "nbformat": 4,
 "nbformat_minor": 2
}
