{
 "cells": [
  {
   "cell_type": "markdown",
   "metadata": {},
   "source": [
    "# Project: Analyzing Macbeth"
   ]
  },
  {
   "cell_type": "markdown",
   "metadata": {},
   "source": [
    "## Introduction\n",
    "For our first day and first data science project, we're going to do some rudimentry analysis of Shakespeare's classic play: Macbeth! You will get practice working with lists, condtionals and dictionaries, visualizing data, and thinking analytically about data."
   ]
  },
  {
   "cell_type": "markdown",
   "metadata": {},
   "source": [
    "## Objectives\n",
    "You will be able to:\n",
    "* Show mastery of the content covered in this section"
   ]
  },
  {
   "cell_type": "markdown",
   "metadata": {},
   "source": [
    "### Getting the Data\n",
    "Here we start by importing a python package and using it to pull the transcript of Macbeth from the project Gutenberg website. We also preview a few details about what is now stored in the variable macbeth; it's a string with 119,846 characters, the first 500 of which are printed below. "
   ]
  },
  {
   "cell_type": "code",
   "execution_count": 12,
   "metadata": {},
   "outputs": [
    {
     "name": "stdout",
     "output_type": "stream",
     "text": [
      "<class 'str'>\n",
      "119846\n",
      "﻿***The Project Gutenberg's Etext of Shakespeare's First Folio***\r\n",
      "********************The Tragedie of Macbeth*********************\r\n",
      "\r\n",
      "This is our 3rd edition of most of these plays.  See the index.\r\n",
      "\r\n",
      "\r\n",
      "Copyright laws are changing all over the world, be sure to check\r\n",
      "the copyright laws for your country before posting these files!!\r\n",
      "\r\n",
      "Please take a look at the important information in this header.\r\n",
      "We encourage you to keep this file on your own disk, keeping an\r\n",
      "electronic path open for the nex\n"
     ]
    }
   ],
   "source": [
    "import requests\n",
    "import re\n",
    "import string\n",
    "\n",
    "macbeth = requests.get('http://www.gutenberg.org/cache/epub/2264/pg2264.txt').text\n",
    "\n",
    "print(type(macbeth))\n",
    "print(len(macbeth))\n",
    "print(macbeth[:500])"
   ]
  },
  {
   "cell_type": "markdown",
   "metadata": {},
   "source": [
    "### Your Task\n",
    "\n",
    "Your task is to create a bar graph of the 25 most common words in the Shakespeare's Macbeth.  \n",
    "\n",
    "\n",
    "A common python programming pattern to counting objects, produce histograms, or update statistics is to make calls to a dictionary as you iterate through a list. For example, given a list of words, you can create a dictionary to store counts and then iterate through the list of words, checking how many times each word has appeared using your dictionary, and updating the dictionary count now that you've seen that word again. The `dictionary.get()` method is very useful in doing this. Read the docstring for the dictionary.get() method and use it along with the pseudocode above to create a bar graph of the 25 most common words from the transcript of Macbeth which has been loaded into a variable 'Macbeth'. Be sure to include a title and appropriate labels for your graph."
   ]
  },
  {
   "cell_type": "code",
   "execution_count": 21,
   "metadata": {},
   "outputs": [
    {
     "data": {
      "text/plain": [
       "'inal plain ASCII form or in EBCDIC or other equivalent proprietary form 2 Honor the etext refund and replacement provisions of this Small Print statement 3 Pay a trademark license fee to the Project of 20 of the net profits you derive calculated using the method you already use to calculate your applicable taxes If you don t derive profits no royalty is due Royalties are payable to Project Gutenberg Association Carnegie Mellon University within the 60 days following each date you prepare or were legally required to prepare your annual or equivalent periodic tax return WHAT IF YOU WANT TO SEND MONEY EVEN IF YOU DON T HAVE TO The Project gratefully accepts contributions in money time scanning machines OCR software public domain etexts royalty free copyright licenses and every other sort of contribution you can think of Money should be paid to Project Gutenberg Association Carnegie Mellon University END THE SMALL PRINT FOR PUBLIC DOMAIN ETEXTS Ver 04 29 93 END Project Gutenberg s Etext of Shakespeare s The Tragedie of Macbeth Executive Director s Notes In addition to the notes below and so you will NOT think all the spelling errors introduced by the printers of the time have been corrected here are the first few lines of Hamlet as they are presented herein Barnardo Who s there Fran Nay answer me Stand vnfold your selfe Bar Long liue the King As I understand it the printers often ran out of certain words or letters they had often packed into a cliche this is the original meaning of the term cliche and thus being unwilling to unpack the cliches and thus you will see some substitutions that look very odd such as the exchanges of u for v v for u above and you may wonder why they did it this way presuming Shakespeare did not actually write the play in this manner The answer is that they MAY have packed liue into a cliche at a time when they were out of v s possibly having used vv in place of some w s etc This was a common practice of the day as print was still quite expensive and they didn t want to spend more on a wider selection of characters than they had to You will find a lot of these kinds of errors in this text as I have mentioned in other times and places many scholars have an extreme attachment to these errors and many have accorded them a very high place in the canon of Shakespeare My father read an assortment of these made available to him by Cambridge University in England for several months in a glass room constructed for the purpose To the best of my knowledge he read ALL those available in great detail and determined from the various changes that Shakespeare most likely did not write in nearly as many of a variety of errors we credit him for even though he was in famous for signing his name with several different spellings So please take this into account when reading the comments below made by our volunteer who prepared this file you may see errors that are not errors So with this caveat we have NOT changed the canon errors here is the Project Gutenberg Etext of Shakespeare s The Tragedie of Macbeth Michael S Hart Project Gutenberg Executive Director Scanner s Notes What this is and isn t This was taken from a copy of Shakespeare s first folio and it is as close as I can come in ASCII to the printed text The elongated S s have been changed to small s s and the conjoined ae have been changed to ae I have left the spelling punctuation capitalization as close as possible to the printed text I have corrected some spelling mistakes I have put together a spelling dictionary devised from the spellings of the Geneva Bible and Shakespeare s First Folio and have unified spellings according to this template typo s and expanded abbreviations as I have come across them Everything within brackets is what I have added So if you don t like that you can delete everything within the brackets if you want a purer Shakespeare Another thing that you should be aware of is that there are textual differences between various copies of the first folio So there may be differences other than what I have mentioned above between this and other first folio editions This is due to the printer s habit of setting the type and running off a number of copies and then proofing the printed copy and correcting the type and then continuing the printing run The proof run wasn t thrown away but incorporated into the printed copies This is just the way it is The text I have used was a composite of more than 30 different First Folio editions best pages If you find any scanning errors out and out typos punctuation errors or if you disagree with my spelling choices please feel free to email me those errors I wish to make this the best etext possible My email address for right now are haradda aol com and davidr inconnect com I hope that you enjoy this David Reed The Tragedie of Macbeth Actus Primus Scoena Prima Thunder and Lightning Enter three Witches 1 When shall we three meet againe In Thunder Lightning or in Raine 2 When the Hurley burley s done When the Battaile s lost and wonne 3 That will be ere the set of Sunne 1 Where the place 2 Vpon the Heath 3 There to meet with Macbeth 1 I come Gray Malkin All Padock calls anon faire is foule and foule is faire Houer through the fogge and filthie ayre Exeunt Scena Secunda Alarum within Enter King Malcome Donalbaine Lenox with attendants meeting a bleeding Captaine King What bloody man is that he can report As seemeth by his plight of the Reuolt The newest state Mal This is the Serieant Who like a good and hardie Souldier fought Gainst my Captiuitie Haile braue friend Say to the King the knowledge of the Broyle As thou didst leaue it Cap Doubtfull it stood As two spent Swimmers that doe cling together And choake their Art The mercilesse Macdonwald Worthie to be a Rebell for to that The multiplying Villanies of Nature Doe swarme vpon him from the Westerne Isles Of Kernes and Gallowgrosses is supply d And Fortune on his damned Quarry smiling Shew d like a Rebells Whore but all s too weake For braue Macbeth well hee deserues that Name Disdayning Fortune with his brandisht Steele Which smoak d with bloody execution Like Valours Minion caru d out his passage Till hee fac d the Slaue Which neu r shooke hands nor bad farwell to him Till he vnseam d him from the Naue toth Chops And fix d his Head vpon our Battlements King O valiant Cousin worthy Gentleman Cap As whence the Sunne gins his reflection Shipwracking Stormes and direfull Thunders So from that Spring whence comfort seem d to come Discomfort swells Marke King of Scotland marke No sooner Iustice had with Valour arm d Compell d these skipping Kernes to trust their heeles But the Norweyan Lord surueying vantage With furbusht Armes and new supplyes of men Began a fresh assault King Dismay d not this our Captaines Macbeth and Banquoh Cap Yes as Sparrowes Eagles Or the Hare the Lyon If I say sooth I must report they were As Cannons ouer charg d with double Cracks So they doubly redoubled stroakes vpon the Foe Except they meant to bathe in reeking Wounds Or memorize another Golgotha I cannot tell but I am faint My Gashes cry for helpe King So well thy words become thee as thy wounds They smack of Honor both Goe get him Surgeons Enter Rosse and Angus Who comes here Mal The worthy Thane of Rosse Lenox What a haste lookes through his eyes So should he looke that seemes to speake things strange Rosse God saue the King King Whence cam st thou worthy Thane Rosse From Fiffe great King Where the Norweyan Banners flowt the Skie And fanne our people cold Norway himselfe with terrible numbers Assisted by that most disloyall Traytor The Thane of Cawdor began a dismall Conflict Till that Bellona s Bridegroome lapt in proofe Confronted him with selfe comparisons Point against Point rebellious Arme gainst Arme Curbing his lauish spirit and to conclude The Victorie fell on vs King Great happinesse Rosse That now Sweno the Norwayes King Craues composition Nor would we deigne him buriall of his men Till he disbursed at Saint Colmes ynch Ten thousand Dollars to our generall vse King No more that Thane of Cawdor shall deceiue Our Bosome interest Goe pronounce his present death And with his former Title greet Macbeth Rosse Ile see it done King What he hath lost Noble Macbeth hath wonne Exeunt Scena Tertia Thunder Enter the three Witches 1 Where hast thou beene Sister 2 Killing Swine 3 Sister where thou 1 A Saylors Wife had Chestnuts in her Lappe And mouncht mouncht and mouncht Giue me quoth I Aroynt thee Witch the rumpe fed Ronyon cryes Her Husband s to Aleppo gone Master o th Tiger But in a Syue Ile thither sayle And like a Rat without a tayle Ile doe Ile doe and Ile doe 2 Ile giue thee a Winde 1 Th art kinde 3 And I another 1 I my selfe haue all the other And the very Ports they blow All the Quarters that they know I th Ship mans Card Ile dreyne him drie as Hay Sleepe shall neyther Night nor Day Hang vpon his Pent house Lid He shall liue a man forbid Wearie Seu nights nine times nine Shall he dwin'"
      ]
     },
     "execution_count": 21,
     "metadata": {},
     "output_type": "execute_result"
    }
   ],
   "source": [
    "# Your code here\n",
    "\n",
    "macbeth_clean = re.sub(r'\\W+', ' ', macbeth)\n",
    "# Pseudo-code Outline\n",
    "# Split the transcript into words\n",
    "#words = macbeth.split(\" \")\n",
    "# Create a dictionary\n",
    "#word_count = dict()\n",
    "# Iterate through the text of Macbeth\n",
    "#words[0:2]\n",
    "macbeth_clean[10000:19000]\n",
    "# Update word counts\n",
    "# Create Bar Graph\n",
    "# Include descriptive titles and labels"
   ]
  },
  {
   "cell_type": "markdown",
   "metadata": {},
   "source": [
    "### Level Up (Optional)\n",
    "This project should take you about an hour and a half to complete. If you're done much more quickly than that and are not behind in the course, feel free to deepen your knowledge by completing any or all of the following tasks until you run out of time:\n",
    "* Create a list of top characters by mentions of their names \n",
    "* Split the text by which character is talking\n",
    "* Create sub graphs of the most common words by character\n",
    "* Reduce the string to the text of the play itself. (Remove any initial notes, forward, introduction, appendix, etc.)\n",
    "* Come up with some other fun analyses of the text!"
   ]
  },
  {
   "cell_type": "code",
   "execution_count": 11,
   "metadata": {},
   "outputs": [
    {
     "data": {
      "text/plain": [
       "\"ditions.  This is due to the printer's\\r\\nhabit of setting the type and running off a number of copies and\\r\\nthen proofing the printed copy and correcting the type and then\\r\\ncontinuing the printing run.  The proof run wasn't thrown away but\\r\\nincorporated into the printed copies.  This is just the way it is.\\r\\nThe text I have used was a composite of more than 30 different\\r\\nFirst Folio editions' best pages.\\r\\n\\r\\nIf you find any scanning errors, out and out typos, punctuation\\r\\nerrors, or if you disagree with my spelling choices please feel\\r\\nfree to email me those errors.  I wish to make this the best\\r\\netext possible.  My email address for right now are haradda@aol.com\\r\\nand davidr@inconnect.com.  I hope that you enjoy this.\\r\\n\\r\\nDavid Reed\\r\\n\\r\\nThe Tragedie of Macbeth\\r\\n\\r\\nActus Primus. Scoena Prima.\\r\\n\\r\\nThunder and Lightning. Enter three Witches.\\r\\n\\r\\n  1. When shall we three meet againe?\\r\\nIn Thunder, Lightning, or in Raine?\\r\\n  2. When the Hurley-burley's done,\\r\\nWhen the Battaile's lost, and wonne\\r\\n\\r\\n   3. That will be ere the set of Sunne\\r\\n\\r\\n   1. Where the place?\\r\\n  2. Vpon the Heath\\r\\n\\r\\n   3. There to meet with Macbeth\\r\\n\\r\\n   1. I come, Gray-Malkin\\r\\n\\r\\n   All. Padock calls anon: faire is foule, and foule is faire,\\r\\nHouer through the fogge and filthie ayre.\\r\\n\\r\\nExeunt.\\r\\n\\r\\n\\r\\nScena Secunda.\\r\\n\\r\\nAlarum within. Enter King, Malcome, Donalbaine, Lenox, with\\r\\nattendants, meeting a bleeding Captaine.\\r\\n\\r\\n  King. What bloody man is that? he can report,\\r\\nAs seemeth by his plight, of the Reuolt\\r\\nThe newest state\\r\\n\\r\\n   Mal. This is the Serieant,\\r\\nWho like a good and hardie Souldier fought\\r\\n'Gainst my Captiuitie: Haile braue friend;\\r\\nSay to the King, the knowledge of the Broyle,\\r\\nAs thou didst leaue it\\r\\n\\r\\n   Cap. Doubtfull it stood,\\r\\nAs two spent Swimmers, that doe cling together,\\r\\nAnd choake their Art: The mercilesse Macdonwald\\r\\n(Worthie to be a Rebell, for to that\\r\\nThe multiplying Villanies of Nature\\r\\nDoe swarme vpon him) from the Westerne Isles\\r\\nOf Kernes and Gallowgrosses is supply'd,\\r\\nAnd Fortune on his damned Quarry smiling,\\r\\nShew'd like a Rebells Whore: but all's too weake:\\r\\nFor braue Macbeth (well hee deserues that Name)\\r\\nDisdayning Fortune, with his brandisht Steele,\\r\\nWhich smoak'd with bloody execution\\r\\n(Like Valours Minion) caru'd out his passage,\\r\\nTill hee fac'd the Slaue:\\r\\nWhich neu'r shooke hands, nor bad farwell to him,\\r\\nTill he vnseam'd him from the Naue toth' Chops,\\r\\nAnd fix'd his Head vpon our Battlements\\r\\n\\r\\n   King. O valiant Cousin, worthy Gentleman\\r\\n\\r\\n   Cap. As whence the Sunne 'gins his reflection,\\r\\nShipwracking Stormes, and direfull Thunders:\\r\\nSo from that Spring, whence comfort seem'd to come,\\r\\nDiscomfort swells: Marke King of Scotland, marke,\\r\\nNo sooner Iustice had, with Valour arm'd,\\r\\nCompell'd these skipping Kernes to trust their heeles,\\r\\nBut the Norweyan Lord, surueying vantage,\\r\\nWith furbusht Armes, and new supplyes of men,\\r\\nBegan a fresh assault\\r\\n\\r\\n   King. Dismay'd not this our Captaines, Macbeth and\\r\\nBanquoh?\\r\\n  Cap. Yes, as Sparrowes, Eagles;\\r\\nOr the Hare, the Lyon:\\r\\nIf I say sooth, I must report they were\\r\\nAs Cannons ouer-charg'd with double Cracks,\\r\\nSo they doubly redoubled stroakes vpon the Foe:\\r\\nExcept they meant to bathe in reeking Wounds,\\r\\nOr memorize another Golgotha,\\r\\nI cannot tell: but I am faint,\\r\\nMy Gashes cry for helpe\\r\\n\\r\\n   King. So well thy words become thee, as thy wounds,\\r\\nThey smack of Honor both: Goe get him Surgeons.\\r\\nEnter Rosse and Angus.\\r\\n\\r\\nWho comes here?\\r\\n  Mal. The worthy Thane of Rosse\\r\\n\\r\\n   Lenox. What a haste lookes through his eyes?\\r\\nSo should he looke, that seemes to speake things strange\\r\\n\\r\\n   Rosse. God saue the King\\r\\n\\r\\n   King. Whence cam'st thou, worthy Thane?\\r\\n  Rosse. From Fiffe, great King,\\r\\nWhere the Norweyan Banners flowt the Skie,\\r\\nAnd fanne our people cold.\\r\\nNorway himselfe, with terrible numbers,\\r\\nAssisted by that most disloyall Traytor,\\r\\nThe Thane of Cawdor, began a dismall Conflict,\\r\\nTill that Bellona's Bridegroome, lapt in proofe,\\r\\nConfronted him with selfe-comparisons,\\r\\nPoint agains\""
      ]
     },
     "execution_count": 11,
     "metadata": {},
     "output_type": "execute_result"
    }
   ],
   "source": [
    "macbeth[15500:19500]"
   ]
  },
  {
   "cell_type": "markdown",
   "metadata": {},
   "source": [
    "## Summary\n",
    "Congratulations! You've got some extra practice combining various data types into useful programming patterns and done an intitial analysis of a classic text!"
   ]
  }
 ],
 "metadata": {
  "kernelspec": {
   "display_name": "Python 3",
   "language": "python",
   "name": "python3"
  },
  "language_info": {
   "codemirror_mode": {
    "name": "ipython",
    "version": 3
   },
   "file_extension": ".py",
   "mimetype": "text/x-python",
   "name": "python",
   "nbconvert_exporter": "python",
   "pygments_lexer": "ipython3",
   "version": "3.6.6"
  }
 },
 "nbformat": 4,
 "nbformat_minor": 2
}
