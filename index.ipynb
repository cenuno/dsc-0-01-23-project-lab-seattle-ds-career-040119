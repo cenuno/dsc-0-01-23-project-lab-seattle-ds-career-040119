{
 "cells": [
  {
   "cell_type": "markdown",
   "metadata": {},
   "source": [
    "# Project: Analyzing Macbeth"
   ]
  },
  {
   "cell_type": "markdown",
   "metadata": {},
   "source": [
    "## Introduction\n",
    "For our first day and first data science project, we're going to do some rudimentry analysis of Shakespeare's classic play: Macbeth! You will get practice working with lists, condtionals and dictionaries, visualizing data, and thinking analytically about data."
   ]
  },
  {
   "cell_type": "markdown",
   "metadata": {},
   "source": [
    "## Objectives\n",
    "You will be able to:\n",
    "* Show mastery of the content covered in this section"
   ]
  },
  {
   "cell_type": "markdown",
   "metadata": {},
   "source": [
    "### Getting the Data\n",
    "Here we start by importing a python package and using it to pull the transcript of Macbeth from the project Gutenberg website. We also preview a few details about what is now stored in the variable macbeth; it's a string with 119,846 characters, the first 500 of which are printed below. "
   ]
  },
  {
   "cell_type": "code",
   "execution_count": 1,
   "metadata": {},
   "outputs": [
    {
     "name": "stdout",
     "output_type": "stream",
     "text": [
      "<class 'str'>\n",
      "119846\n",
      "﻿***The Project Gutenberg's Etext of Shakespeare's First Folio***\r\n",
      "********************The Tragedie of Macbeth*********************\r\n",
      "\r\n",
      "This is our 3rd edition of most of these plays.  See the index.\r\n",
      "\r\n",
      "\r\n",
      "Copyright laws are changing all over the world, be sure to check\r\n",
      "the copyright laws for your country before posting these files!!\r\n",
      "\r\n",
      "Please take a look at the important information in this header.\r\n",
      "We encourage you to keep this file on your own disk, keeping an\r\n",
      "electronic path open for the nex\n"
     ]
    }
   ],
   "source": [
    "import requests\n",
    "macbeth = requests.get('http://www.gutenberg.org/cache/epub/2264/pg2264.txt').text\n",
    "\n",
    "print(type(macbeth))\n",
    "print(len(macbeth))\n",
    "print(macbeth[:500])"
   ]
  },
  {
   "cell_type": "markdown",
   "metadata": {},
   "source": [
    "### Your Task\n",
    "\n",
    "Your task is to create a bar graph of the 25 most common words in the Shakespeare's Macbeth.  \n",
    "\n",
    "\n",
    "A common python programming pattern to counting objects, produce histograms, or update statistics is to make calls to a dictionary as you iterate through a list. For example, given a list of words, you can create a dictionary to store counts and then iterate through the list of words, checking how many times each word has appeared using your dictionary, and updating the dictionary count now that you've seen that word again. The `dictionary.get()` method is very useful in doing this. Read the docstring for the dictionary.get() method and use it along with the pseudocode above to create a bar graph of the 25 most common words from the transcript of Macbeth which has been loaded into a variable 'Macbeth'. Be sure to include a title and appropriate labels for your graph."
   ]
  },
  {
   "cell_type": "code",
   "execution_count": 2,
   "metadata": {},
   "outputs": [
    {
     "data": {
      "text/plain": [
       "['\\ufeff***The', 'Project']"
      ]
     },
     "execution_count": 2,
     "metadata": {},
     "output_type": "execute_result"
    }
   ],
   "source": [
    "# Your code here\n",
    "\n",
    "# Pseudo-code Outline\n",
    "# Split the transcript into words\n",
    "words = macbeth.split(\" \")\n",
    "# Create a dictionary\n",
    "word_count = dict()\n",
    "# Iterate through the text of Macbeth\n",
    "words[0:2]\n",
    "# Update word counts\n",
    "# Create Bar Graph\n",
    "# Include descriptive titles and labels"
   ]
  },
  {
   "cell_type": "markdown",
   "metadata": {},
   "source": [
    "### Level Up (Optional)\n",
    "This project should take you about an hour and a half to complete. If you're done much more quickly than that and are not behind in the course, feel free to deepen your knowledge by completing any or all of the following tasks until you run out of time:\n",
    "* Create a list of top characters by mentions of their names \n",
    "* Split the text by which character is talking\n",
    "* Create sub graphs of the most common words by character\n",
    "* Reduce the string to the text of the play itself. (Remove any initial notes, forward, introduction, appendix, etc.)\n",
    "* Come up with some other fun analyses of the text!"
   ]
  },
  {
   "cell_type": "code",
   "execution_count": 8,
   "metadata": {},
   "outputs": [
    {
     "data": {
      "text/plain": [
       "'des information about how\\r\\nto get involved with Project Gutenberg.  You could also\\r\\ndownload our past Newsletters, or subscribe here.  This\\r\\nis one of our major sites, please email hart@pobox.com,\\r\\nfor a more complete list of our various sites.\\r\\n\\r\\nTo go directly to the etext collections, use FTP or any\\r\\nWeb browser to visit a Project Gutenberg mirror (mirror\\r\\nsites are available on 7 continents; mirrors are listed\\r\\nat http://promo.net/pg).\\r\\n\\r\\nMac users, do NOT point and click, typing works better.\\r\\n\\r\\nExample FTP session:\\r\\n\\r\\nftp sunsite.unc.edu\\r\\nlogin: anonymous\\r\\npassword: your@login\\r\\ncd pub/docs/books/gutenberg\\r\\ncd etext90 through etext99\\r\\ndir [to see files]\\r\\nget or mget [to get files. . .set bin for zip files]\\r\\nGET GUTINDEX.??  [to get a year\\'s listing of books, e.g., GUTINDEX.99]\\r\\nGET GUTINDEX.ALL [to get a listing of ALL books]\\r\\n\\r\\n***\\r\\n\\r\\n**Information prepared by the Project Gutenberg legal advisor**\\r\\n\\r\\n(Three Pages)\\r\\n\\r\\n\\r\\n***START**THE SMALL PRINT!**FOR PUBLIC DOMAIN ETEXTS**START***\\r\\nWhy is this \"Small Print!\" statement here?  You know: lawyers.\\r\\nThey tell us you might sue us if there is something wrong with\\r\\nyour copy of this etext, even if you got it for free from\\r\\nsomeone other than us, and even if what\\'s wrong is not our\\r\\nfault.  So, among other things, this \"Small Print!\" statement\\r\\ndisclaims most of our liability to you.  It also tells you how\\r\\nyou can distribute copies of this etext if you want to.\\r\\n\\r\\n*BEFORE!* YOU USE OR READ THIS ETEXT\\r\\nBy using or reading any part of this PROJECT GUTENBERG-tm\\r\\netext, you indicate that you understand, agree to and accept\\r\\nthis \"Small Print!\" statement.  If you do not, you can receive\\r\\na refund of the money (if any) you paid for this etext by\\r\\nsending a request within 30 days of receiving it to the person\\r\\nyou got it from.  If you received this etext on a physical\\r\\nmedium (such as a disk), you must return it with your request.\\r\\n\\r\\nABOUT PROJECT GUTENBERG-TM ETEXTS\\r\\nThis PROJECT GUTENBERG-tm etext, like most PROJECT GUTENBERG-\\r\\ntm etexts, is a \"public domain\" work distributed by Professor\\r\\nMichael S. Hart through the Project Gutenberg Association at\\r\\nCarnegie-Mellon University (the \"Project\").  Among other\\r\\nthings, this means that no one owns a United States copyright\\r\\non or for this work, so the Project (and you!) can copy and\\r\\ndistribute it in the United States without permission and\\r\\nwithout paying copyright royalties.  Special rules, set forth\\r\\nbelow, apply if you wish to copy and distribute this etext\\r\\nunder the Project\\'s \"PROJECT GUTENBERG\" trademark.\\r\\n\\r\\nTo create these etexts, the Project expends considerable\\r\\nefforts to identify, transcribe and proofread public domain\\r\\nworks.  Despite these efforts, the Project\\'s etexts and any\\r\\nmedium they may be on may contain \"Defects\".  Among other\\r\\nthings, Defects may take the form of incomplete, inaccurate or\\r\\ncorrupt data, transcription errors, a copyright or other\\r\\nintellectual property infringement, a defective or damaged\\r\\ndisk or other etext medium, a computer virus, or computer\\r\\ncodes that damage or cannot be read by your equipment.\\r\\n\\r\\nLIMITED WARRANTY; DISCLAIMER OF DAMAGES\\r\\nBut for the \"Right of Replacement or Refund\" described below,\\r\\n[1] the Project (and any other party you may receive this\\r\\netext from as a PROJECT GUTENBERG-tm etext) disclaims all\\r\\nliability to you for damages, costs and expenses, including\\r\\nlegal fees, and [2] YOU HAVE NO REMEDIES FOR NEGLIGENCE OR\\r\\nUNDER STRICT LIABILITY, OR FOR BREACH OF WARRANTY OR CONTRACT,\\r\\nINCLUDING BUT NOT LIMITED TO INDIRECT, CONSEQUENTIAL, PUNITIVE\\r\\nOR INCIDENTAL DAMAGES, EVEN IF YOU GIVE NOTICE OF THE\\r\\nPOSSIBILITY OF SUCH DAMAGES.\\r\\n\\r\\nIf you discover a Defect in this etext within 90 days of\\r\\nreceiving it, you can receive a refund of the money (if any)\\r\\nyou paid for it by sending an explanatory note within that\\r\\ntime to the person you received it from.  If you received it\\r\\non a physical medium, you must return it with your note, and\\r\\nsuch person may choose to alternatively give you a '"
      ]
     },
     "execution_count": 8,
     "metadata": {},
     "output_type": "execute_result"
    }
   ],
   "source": [
    "macbeth[4500:8500]"
   ]
  },
  {
   "cell_type": "markdown",
   "metadata": {},
   "source": [
    "## Summary\n",
    "Congratulations! You've got some extra practice combining various data types into useful programming patterns and done an intitial analysis of a classic text!"
   ]
  }
 ],
 "metadata": {
  "kernelspec": {
   "display_name": "Python 3",
   "language": "python",
   "name": "python3"
  },
  "language_info": {
   "codemirror_mode": {
    "name": "ipython",
    "version": 3
   },
   "file_extension": ".py",
   "mimetype": "text/x-python",
   "name": "python",
   "nbconvert_exporter": "python",
   "pygments_lexer": "ipython3",
   "version": "3.6.6"
  }
 },
 "nbformat": 4,
 "nbformat_minor": 2
}
